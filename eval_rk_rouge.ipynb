{
  "cells": [
    {
      "cell_type": "code",
      "execution_count": null,
      "metadata": {
        "id": "C1D6UDAqjgyv"
      },
      "outputs": [],
      "source": [
        "!pip install sentence_transformers chromadb evaluate rouge_score"
      ]
    },
    {
      "cell_type": "code",
      "execution_count": null,
      "metadata": {
        "id": "X5dZabEhkFMV",
        "colab": {
          "base_uri": "https://localhost:8080/"
        },
        "outputId": "d1781c3c-905e-40ba-922a-e6d0cbc61444"
      },
      "outputs": [
        {
          "output_type": "execute_result",
          "data": {
            "text/plain": [
              "True"
            ]
          },
          "metadata": {},
          "execution_count": 2
        }
      ],
      "source": [
        "from sentence_transformers import SentenceTransformer\n",
        "import pandas as pd\n",
        "import chromadb\n",
        "import torch\n",
        "import json\n",
        "import evaluate\n",
        "import nltk\n",
        "import numpy as np\n",
        "nltk.download(\"punkt\", quiet=True)"
      ]
    },
    {
      "cell_type": "code",
      "execution_count": null,
      "metadata": {
        "id": "FUTWahsgh3Bn"
      },
      "outputs": [],
      "source": [
        "model = SentenceTransformer(\"LorMolf/CA_italian_sentence_transformer\")"
      ]
    },
    {
      "cell_type": "code",
      "execution_count": null,
      "metadata": {
        "id": "2Sa7FcM_j34b"
      },
      "outputs": [],
      "source": [
        "def load_answers():\n",
        "    generative_path = \"/content/CdA-mininterno-quiz_dataset.csv\"\n",
        "    df = pd.read_csv(generative_path)\n",
        "    # df = df[df['Question'].str.len() >= 5]\n",
        "    return df"
      ]
    },
    {
      "cell_type": "code",
      "execution_count": null,
      "metadata": {
        "id": "XL8L7js3kJ-B"
      },
      "outputs": [],
      "source": [
        "df = load_answers()"
      ]
    },
    {
      "cell_type": "code",
      "execution_count": null,
      "metadata": {
        "id": "CdD1GQ63kjrl"
      },
      "outputs": [],
      "source": [
        "client = chromadb.Client()\n",
        "collection = client.create_collection(\n",
        "    name = \"answer_embeddings_ca_sentence_transformer\"\n",
        ")"
      ]
    },
    {
      "cell_type": "code",
      "execution_count": null,
      "metadata": {
        "id": "u23wp_2ik5P9"
      },
      "outputs": [],
      "source": [
        "for answer, id in zip(df[\"Risposta\"], df[\"Id\"]):\n",
        "    collection.add(\n",
        "        embeddings=model.encode(answer).tolist(),\n",
        "        documents=[answer],\n",
        "        ids=[str(id)]\n",
        "    )"
      ]
    },
    {
      "cell_type": "code",
      "execution_count": null,
      "metadata": {
        "id": "zDoomfaroguu"
      },
      "outputs": [],
      "source": [
        "def r_at_k(collection, embeddings, ids, k):\n",
        "        score = 0\n",
        "\n",
        "        for pred, id in zip(embeddings, ids):\n",
        "            results = collection.query(\n",
        "                    query_embeddings=pred,\n",
        "                    n_results=k,\n",
        "                    include=[\"documents\"]\n",
        "            )\n",
        "            if str(id) in results[\"ids\"][0]:\n",
        "                score += 1\n",
        "        return (score / len(ids))\n",
        "\n"
      ]
    },
    {
      "cell_type": "markdown",
      "metadata": {
        "id": "gHaH3vyqRUSh"
      },
      "source": []
    },
    {
      "cell_type": "code",
      "execution_count": null,
      "metadata": {
        "id": "1hWhNj-ZowDF"
      },
      "outputs": [],
      "source": [
        "# predictions_path = '/content/zephyr_self_supervised_on_question_answering_8_2_32.json'\n",
        "# predictions_path = '/content/zephyr_self_supervised_on_question_answering_8_2_64.json'\n",
        "# predictions_path = '/content/zephyr_finetuned_question_answering.json'\n",
        "# predictions_path = '/content/zephyr_finetuned_mutliple_choice_on_multiple_choice_8_8_123.json'\n",
        "# predictions_path = '/content/zephyr_base_question-answering_8_8_15.json'\n",
        "\n",
        "# predictions_path = '/content/zephyr_self_supervised_on_question_answering_8_2_64.json'\n",
        "\n",
        "# predictions_path = '/content/zephyr-7b-beta_10ep_self_supervised_on_question_answering_8_2_32.json'\n",
        "# predictions_path = '/content/zephyr-7b-beta_10ep_self_supervised_on_question_answering_8_2_64.json'\n",
        "# predictions_path = '/content/rag_zephyr-7b-beta_10ep_self_supervised_64.json'\n",
        "\n",
        "# predictions_path = '/content/phi_finetuned_question_answering_32.json'\n",
        "# predictions_path = '/content/phi_syntetic_finetuned_question_answering_32.json'\n",
        "# predictions_path = '/content/phi2_base_question-answering_32.json'\n",
        "# predictions_path = '/content/phi2_finetuned_multiple_choice_on_question_answering_0_5.json'\n",
        "# predictions_path = '/content/phi2_finetuned_multiple_choice_on_question_answering_2_64.json'\n",
        "# predictions_path = '/content/rag_phi_finetuned_question_answering_32.json'\n",
        "# predictions_path = '/content/phi2_finetuned_synthetic_question-answering_15.json'\n",
        "# predictions_path = '/content/rag_zephyr_finetuned_self_supervised.json'\n",
        "# predictions_path = '/content/phi2_finetuned_question-answering_15.json'\n",
        "\n",
        "\n",
        "# predictions_path = '/content/llamantino_base_question-answering_3_2_8_32.json'\n",
        "# predictions_path = '/content/llamantino_finetuned_mutliple_choice_on_question_answering_32.json'\n",
        "# predictions_path = '/content/llamantino_syntetic_finetuned_question_answering_32.json'\n",
        "# predictions_path = '/content/llamantino_finetuned_question_answering_32.json'\n",
        "\n",
        "# predictions_path = '/content/flan-t5-large_synthetic_question_answering_64.json'\n",
        "# predictions_path = '/content/flan-t5-large_base_question-answering_2_8_20.json'\n",
        "# predictions_path = '/content/flan-t5-large_finetuned_multiple_choice_on_question_answering_64.json'\n",
        "predictions_path = '/content/flan-t5-large_finetuned_question-answering_2_8_20.json'"
      ]
    },
    {
      "cell_type": "code",
      "execution_count": null,
      "metadata": {
        "id": "m3SWZ3-dolbi"
      },
      "outputs": [],
      "source": [
        "with open(predictions_path, 'r') as file:\n",
        "            data = json.load(file)"
      ]
    },
    {
      "cell_type": "code",
      "execution_count": null,
      "metadata": {
        "id": "Ktgv391uovdz"
      },
      "outputs": [],
      "source": [
        "generated_texts = []\n",
        "ids = []\n",
        "\n",
        "for entry in data:\n",
        "    generated_texts.append(entry['generated_text'])\n",
        "    ids.append(entry['id'])\n",
        "\n",
        "result_dict = {'generated_text': generated_texts, 'id': ids}"
      ]
    },
    {
      "cell_type": "code",
      "execution_count": null,
      "metadata": {
        "id": "GfUCXTwlpYb4"
      },
      "outputs": [],
      "source": [
        "embeddings = model.encode(result_dict[\"generated_text\"]).tolist()"
      ]
    },
    {
      "cell_type": "code",
      "execution_count": null,
      "metadata": {
        "id": "YD-jVSdVpwXf"
      },
      "outputs": [],
      "source": [
        "result = {}\n",
        "result[\"r@1\"] = r_at_k(collection, embeddings, result_dict[\"id\"], 1)\n",
        "result[\"r@3\"] = r_at_k(collection, embeddings, result_dict[\"id\"], 3)\n",
        "result[\"r@5\"] = r_at_k(collection, embeddings, result_dict[\"id\"], 5)\n",
        "result[\"r@10\"] = r_at_k(collection, embeddings, result_dict[\"id\"], 10)\n",
        "result[\"r@20\"] = r_at_k(collection, embeddings, result_dict[\"id\"], 20)\n",
        "result[\"r@50\"] = r_at_k(collection, embeddings, result_dict[\"id\"], 50)"
      ]
    },
    {
      "cell_type": "code",
      "execution_count": null,
      "metadata": {
        "id": "gn8U3qglqcgH"
      },
      "outputs": [],
      "source": [
        "result"
      ]
    },
    {
      "cell_type": "code",
      "execution_count": null,
      "metadata": {
        "id": "YiwXKbMbwzkR"
      },
      "outputs": [],
      "source": [
        "labels_preds = [{\"label\" : item['answer'], \"pred\" : item['generated_text']} for item in data]\n",
        "\n",
        "def evaluate_question_answering():\n",
        "        metric_rouge = evaluate.load(\"rouge\")\n",
        "\n",
        "        processed_preds = [item[\"pred\"].strip() for item in labels_preds]\n",
        "        processed_labels = [item[\"label\"].strip() for item in labels_preds]\n",
        "\n",
        "        processed_preds = [\"\\n\".join(nltk.sent_tokenize(pred)) for pred in processed_preds]\n",
        "        processed_labels = [\"\\n\".join(nltk.sent_tokenize(label)) for label in processed_labels]\n",
        "\n",
        "        result = metric_rouge.compute(predictions=processed_preds, references=processed_labels, use_stemmer=True)\n",
        "        result = {k: round(v * 100, 2) for k, v in result.items()}\n",
        "\n",
        "        result[\"R\"] = round(np.mean([result[\"rouge1\"], result[\"rouge2\"], result[\"rougeL\"]]) / \\\n",
        "                    (1 + (np.var([result[\"rouge1\"]/100, result[\"rouge2\"]/100, result[\"rougeL\"]/100]))), 2)\n",
        "\n",
        "        processed_preds = [pred.replace(\"\\n\", \" \") for pred in processed_preds]\n",
        "        processed_labels = [label.replace(\"\\n\", \" \") for label in processed_labels]\n",
        "\n",
        "        with open(\"/content/rouge.json\", 'a') as file:\n",
        "            json.dump(result, file, indent=4)\n",
        "\n",
        "        return result"
      ]
    },
    {
      "cell_type": "code",
      "execution_count": null,
      "metadata": {
        "colab": {
          "base_uri": "https://localhost:8080/"
        },
        "id": "K7nVyTS6xKt0",
        "outputId": "fd45f992-c1bf-4f4a-ef5b-bf665638a8ff"
      },
      "outputs": [
        {
          "output_type": "execute_result",
          "data": {
            "text/plain": [
              "{'rouge1': 8.17, 'rouge2': 1.26, 'rougeL': 7.15, 'rougeLsum': 7.35, 'R': 5.52}"
            ]
          },
          "metadata": {},
          "execution_count": 23
        }
      ],
      "source": [
        "evaluate_question_answering()"
      ]
    }
  ],
  "metadata": {
    "colab": {
      "provenance": []
    },
    "kernelspec": {
      "display_name": "Python 3",
      "name": "python3"
    },
    "language_info": {
      "name": "python"
    }
  },
  "nbformat": 4,
  "nbformat_minor": 0
}